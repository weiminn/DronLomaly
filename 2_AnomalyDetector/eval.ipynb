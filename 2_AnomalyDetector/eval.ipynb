{
 "cells": [
  {
   "cell_type": "code",
   "execution_count": 1,
   "metadata": {},
   "outputs": [
    {
     "data": {
      "text/plain": [
       "Model(\n",
       "  (lstm): LSTM(3, 64, num_layers=5, batch_first=True, dropout=0.2, bidirectional=True)\n",
       "  (relu1): LeakyReLU(negative_slope=0.01)\n",
       "  (fc_1): Linear(in_features=64, out_features=128, bias=True)\n",
       "  (relu2): LeakyReLU(negative_slope=0.01)\n",
       "  (fc_2): Linear(in_features=128, out_features=3, bias=True)\n",
       ")"
      ]
     },
     "execution_count": 1,
     "metadata": {},
     "output_type": "execute_result"
    }
   ],
   "source": [
    "from params import log_offsets\n",
    "from collections import deque\n",
    "\n",
    "# LSTM imports  \n",
    "import torch as T\n",
    "import pandas as pd\n",
    "from model import Model\n",
    "from log_dataset_2 import LogDataset, TestDataset\n",
    "from torch.utils.data import DataLoader \n",
    "\n",
    "type = 'euler'\n",
    "cols = log_offsets[type]['cols']\n",
    "buffer = deque()\n",
    "pCols = []\n",
    "for col in cols:\n",
    "    c = \"predicted_\" + col\n",
    "    pCols.append(c)\n",
    "pdf = pd.DataFrame(columns=cols + pCols + ['label'])\n",
    "\n",
    "base_file = './dataset/dji/baseline.csv'\n",
    "test_file = 'anomaly_labeled.csv'\n",
    "\n",
    "model_name = 'dji_' +  type\n",
    "batch_size = 1\n",
    "steps = 10  # data collection rate is set at 10Hz, hence 10 steps means prediction at every 1 second\n",
    "window_sz = 30 # window size for runtime data analysis\n",
    "threshold = 3 # deviation threshold \n",
    "epochs = 50 # for training\n",
    "input_sz = len(cols)\n",
    "\n",
    "djibaseDataset = LogDataset(base_file, cols, steps=steps)\n",
    "djitestDataset = TestDataset(test_file, cols, steps=steps)\n",
    "baseline = djibaseDataset\n",
    "\n",
    "model = Model(batch_size=batch_size, input_size=3, hidden_size=64, num_layers=5, linear_size=128,device= 'cuda' if T.cuda.is_available() else 'cpu')\n",
    "model.load_state_dict(T.load('models/' + model_name + '_s' + str(steps) + '_b' + str(batch_size)))\n",
    "model.eval()  # set model in evaluation mode\n"
   ]
  },
  {
   "cell_type": "code",
   "execution_count": 4,
   "metadata": {},
   "outputs": [
    {
     "ename": "ValueError",
     "evalue": "only one element tensors can be converted to Python scalars",
     "output_type": "error",
     "traceback": [
      "\u001b[0;31m---------------------------------------------------------------------------\u001b[0m",
      "\u001b[0;31mValueError\u001b[0m                                Traceback (most recent call last)",
      "\u001b[1;32m/home/weiminn/Documents/anomaly_detection/eval.ipynb Cell 2\u001b[0m line \u001b[0;36m3\n\u001b[1;32m      <a href='vscode-notebook-cell:/home/weiminn/Documents/anomaly_detection/eval.ipynb#W1sZmlsZQ%3D%3D?line=0'>1</a>\u001b[0m djiwindy_dl \u001b[39m=\u001b[39m DataLoader(djitestDataset, batch_size\u001b[39m=\u001b[39m\u001b[39m100\u001b[39m, shuffle\u001b[39m=\u001b[39m\u001b[39mTrue\u001b[39;00m, drop_last\u001b[39m=\u001b[39m\u001b[39mTrue\u001b[39;00m)\n\u001b[1;32m      <a href='vscode-notebook-cell:/home/weiminn/Documents/anomaly_detection/eval.ipynb#W1sZmlsZQ%3D%3D?line=1'>2</a>\u001b[0m eval_iter \u001b[39m=\u001b[39m \u001b[39miter\u001b[39m(djiwindy_dl)\n\u001b[0;32m----> <a href='vscode-notebook-cell:/home/weiminn/Documents/anomaly_detection/eval.ipynb#W1sZmlsZQ%3D%3D?line=2'>3</a>\u001b[0m \u001b[39mnext\u001b[39;49m(eval_iter)[\u001b[39m0\u001b[39m]\n",
      "File \u001b[0;32m~/Documents/anomaly_detection/venv/lib/python3.8/site-packages/torch/utils/data/dataloader.py:633\u001b[0m, in \u001b[0;36m_BaseDataLoaderIter.__next__\u001b[0;34m(self)\u001b[0m\n\u001b[1;32m    630\u001b[0m \u001b[39mif\u001b[39;00m \u001b[39mself\u001b[39m\u001b[39m.\u001b[39m_sampler_iter \u001b[39mis\u001b[39;00m \u001b[39mNone\u001b[39;00m:\n\u001b[1;32m    631\u001b[0m     \u001b[39m# TODO(https://github.com/pytorch/pytorch/issues/76750)\u001b[39;00m\n\u001b[1;32m    632\u001b[0m     \u001b[39mself\u001b[39m\u001b[39m.\u001b[39m_reset()  \u001b[39m# type: ignore[call-arg]\u001b[39;00m\n\u001b[0;32m--> 633\u001b[0m data \u001b[39m=\u001b[39m \u001b[39mself\u001b[39;49m\u001b[39m.\u001b[39;49m_next_data()\n\u001b[1;32m    634\u001b[0m \u001b[39mself\u001b[39m\u001b[39m.\u001b[39m_num_yielded \u001b[39m+\u001b[39m\u001b[39m=\u001b[39m \u001b[39m1\u001b[39m\n\u001b[1;32m    635\u001b[0m \u001b[39mif\u001b[39;00m \u001b[39mself\u001b[39m\u001b[39m.\u001b[39m_dataset_kind \u001b[39m==\u001b[39m _DatasetKind\u001b[39m.\u001b[39mIterable \u001b[39mand\u001b[39;00m \\\n\u001b[1;32m    636\u001b[0m         \u001b[39mself\u001b[39m\u001b[39m.\u001b[39m_IterableDataset_len_called \u001b[39mis\u001b[39;00m \u001b[39mnot\u001b[39;00m \u001b[39mNone\u001b[39;00m \u001b[39mand\u001b[39;00m \\\n\u001b[1;32m    637\u001b[0m         \u001b[39mself\u001b[39m\u001b[39m.\u001b[39m_num_yielded \u001b[39m>\u001b[39m \u001b[39mself\u001b[39m\u001b[39m.\u001b[39m_IterableDataset_len_called:\n",
      "File \u001b[0;32m~/Documents/anomaly_detection/venv/lib/python3.8/site-packages/torch/utils/data/dataloader.py:677\u001b[0m, in \u001b[0;36m_SingleProcessDataLoaderIter._next_data\u001b[0;34m(self)\u001b[0m\n\u001b[1;32m    675\u001b[0m \u001b[39mdef\u001b[39;00m \u001b[39m_next_data\u001b[39m(\u001b[39mself\u001b[39m):\n\u001b[1;32m    676\u001b[0m     index \u001b[39m=\u001b[39m \u001b[39mself\u001b[39m\u001b[39m.\u001b[39m_next_index()  \u001b[39m# may raise StopIteration\u001b[39;00m\n\u001b[0;32m--> 677\u001b[0m     data \u001b[39m=\u001b[39m \u001b[39mself\u001b[39;49m\u001b[39m.\u001b[39;49m_dataset_fetcher\u001b[39m.\u001b[39;49mfetch(index)  \u001b[39m# may raise StopIteration\u001b[39;00m\n\u001b[1;32m    678\u001b[0m     \u001b[39mif\u001b[39;00m \u001b[39mself\u001b[39m\u001b[39m.\u001b[39m_pin_memory:\n\u001b[1;32m    679\u001b[0m         data \u001b[39m=\u001b[39m _utils\u001b[39m.\u001b[39mpin_memory\u001b[39m.\u001b[39mpin_memory(data, \u001b[39mself\u001b[39m\u001b[39m.\u001b[39m_pin_memory_device)\n",
      "File \u001b[0;32m~/Documents/anomaly_detection/venv/lib/python3.8/site-packages/torch/utils/data/_utils/fetch.py:51\u001b[0m, in \u001b[0;36m_MapDatasetFetcher.fetch\u001b[0;34m(self, possibly_batched_index)\u001b[0m\n\u001b[1;32m     49\u001b[0m         data \u001b[39m=\u001b[39m \u001b[39mself\u001b[39m\u001b[39m.\u001b[39mdataset\u001b[39m.\u001b[39m__getitems__(possibly_batched_index)\n\u001b[1;32m     50\u001b[0m     \u001b[39melse\u001b[39;00m:\n\u001b[0;32m---> 51\u001b[0m         data \u001b[39m=\u001b[39m [\u001b[39mself\u001b[39m\u001b[39m.\u001b[39mdataset[idx] \u001b[39mfor\u001b[39;00m idx \u001b[39min\u001b[39;00m possibly_batched_index]\n\u001b[1;32m     52\u001b[0m \u001b[39melse\u001b[39;00m:\n\u001b[1;32m     53\u001b[0m     data \u001b[39m=\u001b[39m \u001b[39mself\u001b[39m\u001b[39m.\u001b[39mdataset[possibly_batched_index]\n",
      "File \u001b[0;32m~/Documents/anomaly_detection/venv/lib/python3.8/site-packages/torch/utils/data/_utils/fetch.py:51\u001b[0m, in \u001b[0;36m<listcomp>\u001b[0;34m(.0)\u001b[0m\n\u001b[1;32m     49\u001b[0m         data \u001b[39m=\u001b[39m \u001b[39mself\u001b[39m\u001b[39m.\u001b[39mdataset\u001b[39m.\u001b[39m__getitems__(possibly_batched_index)\n\u001b[1;32m     50\u001b[0m     \u001b[39melse\u001b[39;00m:\n\u001b[0;32m---> 51\u001b[0m         data \u001b[39m=\u001b[39m [\u001b[39mself\u001b[39;49m\u001b[39m.\u001b[39;49mdataset[idx] \u001b[39mfor\u001b[39;00m idx \u001b[39min\u001b[39;00m possibly_batched_index]\n\u001b[1;32m     52\u001b[0m \u001b[39melse\u001b[39;00m:\n\u001b[1;32m     53\u001b[0m     data \u001b[39m=\u001b[39m \u001b[39mself\u001b[39m\u001b[39m.\u001b[39mdataset[possibly_batched_index]\n",
      "File \u001b[0;32m~/Documents/anomaly_detection/log_dataset_2.py:50\u001b[0m, in \u001b[0;36mTestDataset.__getitem__\u001b[0;34m(self, idx)\u001b[0m\n\u001b[1;32m     47\u001b[0m anomaly_ \u001b[39m=\u001b[39m anomaly\u001b[39m.\u001b[39many(\u001b[39m0\u001b[39m)\u001b[39m.\u001b[39many(\u001b[39m0\u001b[39m)\n\u001b[1;32m     48\u001b[0m anomaly_int \u001b[39m=\u001b[39m anomaly_\u001b[39m.\u001b[39mint()\n\u001b[0;32m---> 50\u001b[0m \u001b[39mreturn\u001b[39;00m T\u001b[39m.\u001b[39;49mtensor([T\u001b[39m.\u001b[39;49mtensor(\u001b[39mself\u001b[39;49m\u001b[39m.\u001b[39;49mdf\u001b[39m.\u001b[39;49miloc[idx:idx\u001b[39m+\u001b[39;49m\u001b[39mself\u001b[39;49m\u001b[39m.\u001b[39;49msteps, :\u001b[39m3\u001b[39;49m]\u001b[39m.\u001b[39;49mvalues, dtype\u001b[39m=\u001b[39;49mT\u001b[39m.\u001b[39;49mfloat), T\u001b[39m.\u001b[39;49mtensor(\u001b[39mself\u001b[39;49m\u001b[39m.\u001b[39;49mdf\u001b[39m.\u001b[39;49miloc[idx\u001b[39m+\u001b[39;49m\u001b[39mself\u001b[39;49m\u001b[39m.\u001b[39;49msteps, :\u001b[39m3\u001b[39;49m]\u001b[39m.\u001b[39;49mvalues, dtype\u001b[39m=\u001b[39;49mT\u001b[39m.\u001b[39;49mfloat), anomaly_int])\n",
      "\u001b[0;31mValueError\u001b[0m: only one element tensors can be converted to Python scalars"
     ]
    }
   ],
   "source": [
    "djiwindy_dl = DataLoader(djitestDataset, batch_size=100, shuffle=True, drop_last=True)\n",
    "eval_iter = iter(djiwindy_dl)\n",
    "next(eval_iter)[0]"
   ]
  },
  {
   "cell_type": "code",
   "execution_count": 12,
   "metadata": {},
   "outputs": [],
   "source": [
    "\n",
    "def evaluate(dataloader, threshold_sigma=3, epochs = 10):\n",
    "    std = T.tensor(baseline.df.describe().T['std'])\n",
    "    std = T.round(std,decimals=10)\n",
    "    std[std==0] = 0.0000000001 # must have a minimum std\n",
    "\n",
    "    true_positives = 0.\n",
    "    total = 0.\n",
    "    # res = pd.DataFrame(columns=cols + pCols + ['label'])\n",
    "\n",
    "    eval_iter = iter(dataloader)\n",
    "    seq, seq_end, y = None, None\n",
    "\n",
    "    # while True:\n",
    "    #     try:\n",
    "    seq, seq_end, y = next(eval_iter)\n",
    "    \n",
    "    seq_end_hat = model(seq)\n",
    "    l1_distances = T.abs(seq_end_hat-seq_end)\n",
    "    y_hat = 0\n",
    "    for i,l1 in enumerate(l1_distances):\n",
    "        total += 1\n",
    "        threshold = threshold_sigma * std\n",
    "        deviations = l1 > threshold\n",
    "        deviation = T.any(deviations)\n",
    "        \n",
    "        if deviation.item() > 0: \n",
    "            label = 1\n",
    "            true_positives += 1"
   ]
  },
  {
   "cell_type": "code",
   "execution_count": 13,
   "metadata": {},
   "outputs": [
    {
     "ename": "ValueError",
     "evalue": "not enough values to unpack (expected 3, got 2)",
     "output_type": "error",
     "traceback": [
      "\u001b[0;31m---------------------------------------------------------------------------\u001b[0m",
      "\u001b[0;31mValueError\u001b[0m                                Traceback (most recent call last)",
      "\u001b[1;32m/home/weiminn/Documents/anomaly_detection/eval.ipynb Cell 4\u001b[0m line \u001b[0;36m2\n\u001b[1;32m      <a href='vscode-notebook-cell:/home/weiminn/Documents/anomaly_detection/eval.ipynb#W3sZmlsZQ%3D%3D?line=0'>1</a>\u001b[0m djiwindy_dl \u001b[39m=\u001b[39m DataLoader(djitestDataset, batch_size\u001b[39m=\u001b[39m\u001b[39m100\u001b[39m, shuffle\u001b[39m=\u001b[39m\u001b[39mTrue\u001b[39;00m, drop_last\u001b[39m=\u001b[39m\u001b[39mTrue\u001b[39;00m)\n\u001b[0;32m----> <a href='vscode-notebook-cell:/home/weiminn/Documents/anomaly_detection/eval.ipynb#W3sZmlsZQ%3D%3D?line=1'>2</a>\u001b[0m evaluate(djiwindy_dl, threshold_sigma\u001b[39m=\u001b[39;49mthreshold, epochs \u001b[39m=\u001b[39;49m \u001b[39m1\u001b[39;49m)\n",
      "\u001b[1;32m/home/weiminn/Documents/anomaly_detection/eval.ipynb Cell 4\u001b[0m line \u001b[0;36m1\n\u001b[1;32m      <a href='vscode-notebook-cell:/home/weiminn/Documents/anomaly_detection/eval.ipynb#W3sZmlsZQ%3D%3D?line=7'>8</a>\u001b[0m \u001b[39m# res = pd.DataFrame(columns=cols + pCols + ['label'])\u001b[39;00m\n\u001b[1;32m     <a href='vscode-notebook-cell:/home/weiminn/Documents/anomaly_detection/eval.ipynb#W3sZmlsZQ%3D%3D?line=9'>10</a>\u001b[0m eval_iter \u001b[39m=\u001b[39m \u001b[39miter\u001b[39m(dataloader)\n\u001b[0;32m---> <a href='vscode-notebook-cell:/home/weiminn/Documents/anomaly_detection/eval.ipynb#W3sZmlsZQ%3D%3D?line=10'>11</a>\u001b[0m seq, seq_end, y \u001b[39m=\u001b[39m \u001b[39mNone\u001b[39;00m, \u001b[39mNone\u001b[39;00m\n\u001b[1;32m     <a href='vscode-notebook-cell:/home/weiminn/Documents/anomaly_detection/eval.ipynb#W3sZmlsZQ%3D%3D?line=12'>13</a>\u001b[0m \u001b[39m# while True:\u001b[39;00m\n\u001b[1;32m     <a href='vscode-notebook-cell:/home/weiminn/Documents/anomaly_detection/eval.ipynb#W3sZmlsZQ%3D%3D?line=13'>14</a>\u001b[0m \u001b[39m#     try:\u001b[39;00m\n\u001b[1;32m     <a href='vscode-notebook-cell:/home/weiminn/Documents/anomaly_detection/eval.ipynb#W3sZmlsZQ%3D%3D?line=14'>15</a>\u001b[0m seq, seq_end, y \u001b[39m=\u001b[39m \u001b[39mnext\u001b[39m(eval_iter)\n",
      "\u001b[0;31mValueError\u001b[0m: not enough values to unpack (expected 3, got 2)"
     ]
    }
   ],
   "source": [
    "djiwindy_dl = DataLoader(djitestDataset, batch_size=100, shuffle=True, drop_last=True)\n",
    "evaluate(djiwindy_dl, threshold_sigma=threshold, epochs = 1)"
   ]
  }
 ],
 "metadata": {
  "kernelspec": {
   "display_name": "venv",
   "language": "python",
   "name": "python3"
  },
  "language_info": {
   "codemirror_mode": {
    "name": "ipython",
    "version": 3
   },
   "file_extension": ".py",
   "mimetype": "text/x-python",
   "name": "python",
   "nbconvert_exporter": "python",
   "pygments_lexer": "ipython3",
   "version": "3.8.10"
  },
  "orig_nbformat": 4
 },
 "nbformat": 4,
 "nbformat_minor": 2
}
